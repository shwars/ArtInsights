{
 "cells": [
  {
   "cell_type": "code",
   "execution_count": 30,
   "metadata": {},
   "outputs": [],
   "source": [
    "import matplotlib.pyplot as plt\n",
    "import yaml\n",
    "import os\n",
    "import pickle\n",
    "from collections import Counter"
   ]
  },
  {
   "cell_type": "code",
   "execution_count": 2,
   "metadata": {},
   "outputs": [],
   "source": [
    "src_dir = 'o:/wikiart/Contemporary_Realism'"
   ]
  },
  {
   "cell_type": "code",
   "execution_count": 6,
   "metadata": {},
   "outputs": [],
   "source": [
    "!{sys.executable} -m pip install pip install --quiet azure-cognitiveservices-vision-computervision"
   ]
  },
  {
   "cell_type": "code",
   "execution_count": 12,
   "metadata": {},
   "outputs": [
    {
     "name": "stdout",
     "output_type": "stream",
     "text": [
      "{'ComputerVision': {'Endpoint': 'https://westus.api.cognitive.microsoft.com/', 'Key': 'fc215cc01b1e4ca0b6f64a1740aa4ae0'}}\n"
     ]
    }
   ],
   "source": [
    "from azure.cognitiveservices.vision.computervision import ComputerVisionClient\n",
    "from azure.cognitiveservices.vision.computervision.models import VisualFeatureTypes as vft\n",
    "from msrest.authentication import CognitiveServicesCredentials\n",
    "\n",
    "config = yaml.load(open('../config.yaml').read(),Loader=yaml.loader.SafeLoader)\n",
    "credentials = CognitiveServicesCredentials(config['ComputerVision']['Key'])\n",
    "client = ComputerVisionClient(endpoint=config['ComputerVision']['Endpoint'],credentials=credentials)\n",
    "\n",
    "cv = {}\n",
    "for f in os.listdir(src_dir):\n",
    "    with open(os.path.join(src_dir,f),'rb') as fi:\n",
    "        res = client.analyze_image_in_stream(fi,visual_features=[vft.categories,vft.tags,vft.description,vft.faces,vft.objects,vft.color,vft.adult])\n",
    "    cv[f] = res"
   ]
  },
  {
   "cell_type": "code",
   "execution_count": 15,
   "metadata": {},
   "outputs": [],
   "source": [
    "with open('cv.pkl','wb') as f:\n",
    "    pickle.dump(cv,f)"
   ]
  },
  {
   "cell_type": "code",
   "execution_count": 38,
   "metadata": {},
   "outputs": [
    {
     "data": {
      "text/plain": [
       "{'age': 35,\n",
       " 'gender': 'Female',\n",
       " 'face_rectangle': {'left': 257, 'top': 137, 'width': 119, 'height': 119}}"
      ]
     },
     "execution_count": 38,
     "metadata": {},
     "output_type": "execute_result"
    }
   ],
   "source": [
    "r = list(cv.values())[2]\n",
    "r.faces[0].as_dict()"
   ]
  },
  {
   "cell_type": "code",
   "execution_count": 32,
   "metadata": {},
   "outputs": [
    {
     "name": "stdout",
     "output_type": "stream",
     "text": [
      "john-miller -> [('palm tree', 4), ('tower', 2), ('boat', 2)]\n",
      "eric-fischl -> [('person', 138), ('mammal', 15), ('dog', 9)]\n",
      "richard-whitney -> [('person', 23), ('tie', 9), ('computer keyboard', 1)]\n",
      "jamie-wyeth -> [('person', 23), ('mammal', 17), ('bird', 6)]\n",
      "janet-fish -> [('Tableware', 2), ('vase', 2), ('Food', 1)]\n",
      "lucian-freud -> [('flower', 2), ('person', 2), ('plant', 2)]\n",
      "neil-welliver -> [('person', 13), ('animal', 2), ('dog', 2)]\n",
      "fairfield-porter -> [('person', 14), ('chair', 5), ('Vehicle', 1)]\n",
      "gilles-aillaud -> [('animal', 6), ('turtle', 3), ('bird', 3)]\n",
      "philip-pearlstein -> [('person', 4), ('mammal', 1), ('keyboard instrument', 1)]\n",
      "konstantin-vasilyev -> [('animal', 1), ('Clock', 1), ('dog', 1)]\n",
      "chuck-close -> [('Food', 1)]\n",
      "dimitris-mytaras -> [('dog', 3), ('person', 2)]\n",
      "mostafa-dashti -> [('mammal', 2), ('Invertebrate', 1)]\n",
      "donald-sultan -> [('Fruit', 1)]\n"
     ]
    }
   ],
   "source": [
    "def top(l,n=3):\n",
    "    cnt = Counter(l)\n",
    "    return cnt.most_common(n)\n",
    "\n",
    "d = {}\n",
    "for f in cv.keys():\n",
    "    artist = f.split('_')[0]\n",
    "    al = d.get(artist,[])\n",
    "    al.extend([x.object_property for x in cv[f].objects])\n",
    "    d[artist] = al\n",
    "\n",
    "for k,v in d.items():\n",
    "    print(f\"{k} -> {top(v)}\")"
   ]
  },
  {
   "cell_type": "code",
   "execution_count": 44,
   "metadata": {},
   "outputs": [
    {
     "data": {
      "text/plain": [
       "{'eric-fischl': {'age': 48.63333333333333, 'female': 0.4},\n",
       " 'richard-whitney': {'age': 50.407407407407405, 'female': 0.37037037037037035},\n",
       " 'jamie-wyeth': {'age': 36.13636363636363, 'female': 0.5454545454545454},\n",
       " 'lucian-freud': {'age': 22.0, 'female': 1.0},\n",
       " 'neil-welliver': {'age': 26.6, 'female': 0.8},\n",
       " 'fairfield-porter': {'age': 29.857142857142858,\n",
       "  'female': 0.42857142857142855},\n",
       " 'philip-pearlstein': {'age': 48.0, 'female': 0.0},\n",
       " 'konstantin-vasilyev': {'age': 43.0, 'female': 0.5},\n",
       " 'chuck-close': {'age': 29.0, 'female': 0.5}}"
      ]
     },
     "execution_count": 44,
     "metadata": {},
     "output_type": "execute_result"
    }
   ],
   "source": [
    "d = {}\n",
    "for f in cv.keys():\n",
    "    artist = f.split('_')[0]\n",
    "    al = d.get(artist,{ \"n\" : 0, \"age\" : 0, \"genders\" : [] })\n",
    "    al['age'] += sum([x.age for x in cv[f].faces])\n",
    "    al['n'] += len(cv[f].faces)\n",
    "    al['genders'].extend([x.gender.name for x in cv[f].faces])\n",
    "    d[artist] = al\n",
    "\n",
    "def female_ratio(l):\n",
    "    cnt = Counter(l)\n",
    "    return cnt['female']/len(l)\n",
    "\n",
    "r = { k : { \"age\" : v['age']/v['n'], \"female\" : female_ratio(v['genders'])  } for k,v in d.items() if v['n']>0 }\n",
    "r"
   ]
  },
  {
   "cell_type": "code",
   "execution_count": 50,
   "metadata": {},
   "outputs": [
    {
     "data": {
      "image/png": "[encoded data removed]",
      "text/plain": [
       "<Figure size 432x288 with 1 Axes>"
      ]
     },
     "metadata": {
      "needs_background": "light"
     },
     "output_type": "display_data"
    }
   ],
   "source": [
    "plt.bar(x = r.keys(), height = [v['age'] for k,v in r.items()])\n",
    "plt.xticks(rotation=90)\n",
    "plt.title('Average age')\n",
    "plt.show()"
   ]
  },
  {
   "cell_type": "code",
   "execution_count": 51,
   "metadata": {},
   "outputs": [
    {
     "data": {
      "image/png": "[encoded data removed]",
      "text/plain": [
       "<Figure size 432x288 with 1 Axes>"
      ]
     },
     "metadata": {
      "needs_background": "light"
     },
     "output_type": "display_data"
    }
   ],
   "source": [
    "plt.bar(x = r.keys(), height = [v['female'] for k,v in r.items()])\n",
    "plt.xticks(rotation=90)\n",
    "plt.title('Female ratio')\n",
    "plt.show()"
   ]
  },
  {
   "cell_type": "code",
   "execution_count": 52,
   "metadata": {},
   "outputs": [
    {
     "name": "stdout",
     "output_type": "stream",
     "text": [
      "Collecting colorthief\n",
      "  Downloading colorthief-0.2.1-py2.py3-none-any.whl (6.1 kB)\n",
      "Requirement already satisfied: Pillow in c:\\winapp\\miniconda3\\lib\\site-packages (from colorthief) (8.4.0)\n",
      "Installing collected packages: colorthief\n",
      "Successfully installed colorthief-0.2.1\n"
     ]
    }
   ],
   "source": [
    "!{sys.executable} -m pip install colorthief"
   ]
  },
  {
   "cell_type": "code",
   "execution_count": 53,
   "metadata": {},
   "outputs": [
    {
     "name": "stdout",
     "output_type": "stream",
     "text": [
      "{'john-miller': [(198, 205, 202), (145, 148, 163), (122, 155, 215), (149, 203, 232), (112, 125, 174), (123, 152, 196), (94, 144, 200), (63, 113, 160), (136, 134, 186), (93, 158, 224), (83, 131, 207), (118, 162, 212), (80, 131, 191), (190, 119, 164), (46, 68, 151), (90, 124, 169), (84, 133, 210), (56, 126, 134), (211, 203, 191), (58, 100, 182), (106, 169, 211), (118, 107, 78), (161, 161, 162), (140, 183, 207), (205, 208, 212), (69, 108, 105), (183, 204, 212), (224, 215, 211), (57, 79, 101), (63, 78, 108), (65, 140, 142), (28, 89, 160), (62, 121, 230), (101, 90, 78), (85, 125, 163), (53, 117, 184), (112, 138, 222), (132, 145, 188), (94, 124, 170), (95, 149, 215), (64, 47, 59), (82, 137, 152), (113, 147, 223), (77, 118, 166), (118, 125, 174), (134, 184, 198), (49, 96, 170), (224, 109, 27), (120, 73, 140), (9, 114, 148), (64, 88, 155), (100, 128, 167), (214, 204, 200), (173, 178, 176), (91, 124, 212), (124, 117, 132), (111, 141, 205), (164, 149, 142), (217, 223, 220), (219, 206, 194), (57, 184, 204), (203, 135, 116), (29, 149, 241), (53, 113, 232), (200, 205, 199), (139, 80, 44), (227, 99, 87), (67, 135, 207), (235, 217, 202), (192, 171, 157), (150, 146, 145), (79, 135, 194), (104, 157, 225), (222, 209, 188), (229, 228, 226), (36, 78, 166), (93, 174, 165)], 'eric-fischl': [(55, 50, 39), (127, 100, 79), (175, 139, 111), (191, 179, 126), (82, 73, 39), (218, 212, 215), (146, 107, 80), (47, 76, 76), (170, 172, 119), (56, 42, 29), (99, 123, 105), (181, 193, 177), (65, 64, 38), (191, 172, 130), (66, 68, 51), (28, 33, 30), (27, 30, 27), (25, 31, 31), (28, 26, 25), (51, 70, 62), (207, 194, 167), (52, 68, 49), (26, 39, 54), (210, 191, 129), (75, 75, 53), (95, 72, 31), (60, 58, 65), (83, 94, 83), (60, 60, 52), (32, 34, 16), (67, 66, 50), (83, 77, 73), (53, 41, 41), (223, 220, 221), (175, 132, 105), (160, 176, 150), (175, 198, 146), (182, 178, 177), (203, 182, 168), (68, 108, 88), (182, 152, 108), (58, 50, 32), (41, 27, 19), (35, 36, 21), (199, 194, 200), (51, 53, 35), (40, 39, 34), (133, 133, 46), (141, 146, 101), (65, 55, 35), (197, 173, 141), (40, 43, 50), (45, 59, 64), (56, 52, 36), (28, 32, 25), (162, 136, 56), (188, 184, 172), (59, 57, 33), (118, 86, 79), (201, 184, 177), (59, 64, 52), (130, 96, 74), (111, 91, 62), (49, 48, 34), (86, 119, 91), (39, 37, 22), (148, 145, 79), (194, 186, 170), (209, 196, 173), (221, 215, 204), (150, 133, 74), (20, 23, 14), (106, 97, 74), (204, 208, 176)], 'richard-whitney': [(73, 52, 35), (78, 55, 63), (53, 66, 70), (52, 44, 44), (51, 54, 61), (64, 48, 55), (169, 179, 186), (196, 194, 184), (64, 66, 70), (177, 123, 92), (182, 184, 187), (59, 53, 50), (198, 130, 79), (143, 89, 105), (62, 51, 29), (69, 78, 99), (108, 93, 112), (222, 208, 202), (129, 136, 145), (54, 48, 55), (44, 43, 31), (66, 70, 59), (86, 85, 100), (91, 95, 97), (54, 54, 43), (53, 50, 40), (134, 106, 81), (102, 83, 32), (61, 49, 60), (49, 58, 52), (69, 50, 34), (49, 28, 16), (109, 119, 100), (46, 46, 43), (64, 50, 65)], 'jamie-wyeth': [(62, 55, 58), (219, 204, 171), (212, 210, 201), (72, 58, 51), (138, 84, 62), (53, 40, 35), (215, 207, 186), (37, 37, 22), (60, 39, 30), (200, 187, 111), (40, 41, 37), (83, 74, 53), (228, 181, 96), (41, 53, 47), (155, 128, 93), (45, 34, 28), (37, 55, 70), (49, 46, 28), (116, 110, 76), (39, 34, 36), (114, 115, 105), (121, 84, 62), (45, 57, 61), (225, 226, 212), (63, 42, 38), (42, 51, 46), (219, 216, 204), (73, 63, 53), (54, 53, 51), (227, 175, 121), (52, 50, 46), (219, 220, 224), (56, 37, 27), (231, 210, 108), (179, 132, 83), (151, 133, 78), (33, 46, 56), (211, 178, 154), (26, 24, 30), (29, 47, 51), (47, 49, 57), (40, 37, 29), (52, 62, 62), (48, 27, 26), (198, 210, 204), (219, 211, 155), (130, 119, 91), (242, 231, 213), (39, 42, 47), (220, 222, 217), (55, 51, 44), (142, 138, 108), (56, 51, 17), (239, 215, 134), (62, 56, 42), (213, 225, 204), (184, 149, 116), (55, 49, 56), (51, 50, 37), (55, 36, 32), (217, 206, 145), (47, 30, 20), (244, 222, 63), (208, 211, 204), (63, 45, 32), (51, 41, 39), (55, 50, 39), (36, 34, 28), (70, 63, 41), (220, 217, 215), (55, 53, 44), (103, 84, 67), (207, 197, 153), (225, 178, 106), (220, 224, 198), (43, 47, 50), (59, 54, 49), (29, 38, 45), (55, 50, 46), (212, 208, 198), (210, 212, 203), (69, 87, 31), (41, 45, 43), (198, 150, 103), (53, 35, 40), (41, 40, 34), (195, 148, 65), (176, 180, 176), (125, 120, 83), (49, 32, 36), (214, 203, 188), (46, 35, 40), (224, 213, 192), (68, 66, 54), (215, 169, 114), (67, 77, 89), (45, 38, 37), (217, 210, 184), (135, 123, 102), (69, 63, 37), (34, 38, 38), (40, 54, 54), (53, 54, 47), (59, 61, 58), (227, 224, 178), (220, 213, 197)], 'janet-fish': [(118, 62, 39), (215, 147, 97), (124, 91, 71), (180, 182, 178), (196, 193, 186), (203, 201, 193), (189, 163, 79), (222, 201, 181), (76, 63, 56), (174, 151, 89), (163, 162, 138), (194, 197, 200), (206, 196, 187), (172, 112, 66), (171, 165, 129), (211, 213, 202), (191, 169, 144), (192, 184, 182), (168, 166, 130), (191, 172, 145), (193, 168, 110), (140, 84, 79)], 'lucian-freud': [(143, 143, 91), (133, 126, 61), (85, 79, 63), (106, 82, 53), (169, 136, 90), (97, 99, 58), (198, 185, 169), (184, 141, 81), (125, 115, 59), (174, 122, 54), (113, 110, 93), (59, 50, 40), (227, 203, 182), (194, 197, 196), (68, 63, 33)], 'neil-welliver': [(216, 226, 231), (58, 81, 64), (87, 120, 78), (101, 127, 78), (67, 103, 51), (207, 200, 212), (49, 63, 45), (43, 46, 75), (88, 124, 69), (208, 208, 201), (216, 218, 220), (62, 77, 78), (115, 73, 46), (53, 50, 31), (54, 66, 37), (51, 72, 33), (71, 84, 52), (232, 216, 221), (182, 206, 200), (48, 75, 81), (205, 214, 218), (182, 196, 215), (199, 193, 196), (72, 90, 36), (52, 61, 65), (197, 215, 215), (67, 67, 57), (106, 104, 107), (63, 58, 48), (57, 51, 25), (183, 185, 196), (67, 70, 54), (54, 50, 42), (45, 45, 42), (130, 147, 139), (185, 184, 184), (132, 136, 101), (60, 89, 78), (52, 63, 22), (177, 182, 212), (194, 208, 226), (68, 74, 39), (43, 63, 43), (206, 201, 194), (162, 174, 132), (151, 160, 158), (69, 91, 60), (184, 176, 180), (128, 151, 186), (64, 52, 67), (84, 107, 89), (194, 191, 166), (64, 77, 46), (56, 68, 54), (195, 197, 188), (64, 81, 49), (126, 133, 91), (108, 117, 113), (78, 76, 27), (79, 70, 62), (55, 63, 52), (183, 201, 191), (43, 63, 49), (47, 52, 54), (212, 212, 190), (61, 81, 45), (196, 170, 135)], 'fairfield-porter': [(158, 131, 77), (129, 121, 99), (120, 128, 102), (206, 183, 155), (214, 202, 177), (178, 157, 99), (143, 149, 116), (199, 174, 151), (146, 142, 115), (38, 44, 25), (147, 141, 68), (209, 195, 181), (114, 138, 133), (172, 154, 184), (146, 125, 63), (214, 204, 185), (177, 180, 162), (184, 163, 138), (67, 62, 46), (152, 142, 121), (138, 140, 105), (159, 111, 75), (130, 151, 97)], 'gilles-aillaud': [(208, 223, 198), (143, 153, 71), (119, 121, 102), (181, 163, 81), (138, 107, 97), (122, 170, 170), (22, 73, 62), (59, 162, 124), (118, 182, 175), (90, 145, 157), (218, 201, 153), (72, 75, 68), (147, 157, 167), (217, 205, 179), (61, 117, 112), (237, 237, 234), (103, 117, 106)], 'philip-pearlstein': [(135, 99, 82), (138, 115, 101), (124, 113, 74), (179, 155, 130), (203, 186, 157), (221, 206, 196), (42, 47, 38), (118, 105, 80), (159, 147, 127), (208, 200, 191), (194, 152, 103), (139, 100, 42), (199, 204, 198), (193, 158, 140), (195, 181, 165)], 'konstantin-vasilyev': [(67, 70, 66), (51, 77, 100), (58, 84, 90), (60, 88, 78), (25, 34, 29), (43, 51, 49), (209, 158, 69)], 'chuck-close': [(213, 183, 172), (59, 55, 59), (197, 142, 134), (38, 38, 35), (66, 58, 64), (222, 217, 205), (207, 145, 106), (55, 44, 58)], 'dimitris-mytaras': [(125, 123, 120), (64, 69, 65), (112, 107, 95), (109, 86, 45)], 'mostafa-dashti': [(194, 186, 172), (225, 208, 157), (221, 212, 186), (84, 108, 172), (73, 75, 81), (212, 206, 183), (50, 52, 72), (33, 34, 40), (149, 147, 167), (139, 148, 170)], 'donald-sultan': [(59, 66, 54)]}\n"
     ]
    }
   ],
   "source": [
    "from colorthief import ColorThief\n",
    "\n",
    "d = {}\n",
    "for f in cv.keys():\n",
    "    artist = f.split('_')[0]\n",
    "    col = ColorThief(os.path.join(src_dir,f)).get_color(1)\n",
    "    d[artist] = d.get(artist,[]) + [col]\n",
    "print(d)"
   ]
  },
  {
   "cell_type": "code",
   "execution_count": 66,
   "metadata": {},
   "outputs": [
    {
     "data": {
      "image/png": "[encoded data removed]",
      "text/plain": [
       "<Figure size 432x288 with 1 Axes>"
      ]
     },
     "metadata": {
      "needs_background": "light"
     },
     "output_type": "display_data"
    }
   ],
   "source": [
    "plt.subplots()\n",
    "p1=plt.bar([1,2,3],[1,1,1])\n",
    "p2=plt.bar([1,2,3],[1,1,1],bottom=[1,1,1])\n",
    "p3=plt.bar([1,2,3],[1,1,1],bottom=[2,2,2])\n",
    "p1[0].set_color((0.1,0.1,1))"
   ]
  },
  {
   "cell_type": "code",
   "execution_count": 70,
   "metadata": {},
   "outputs": [],
   "source": [
    "from sklearn.cluster import kmeans_plusplus\n",
    "import numpy as np \n",
    "\n",
    "p = {}\n",
    "for k,v in d.items():\n",
    "    if len(v)>=3:\n",
    "        cent, ind = kmeans_plusplus(np.array(v),3)\n",
    "        p[k] = cent\n"
   ]
  },
  {
   "cell_type": "code",
   "execution_count": 79,
   "metadata": {},
   "outputs": [
    {
     "data": {
      "image/png": "[encoded data removed]",
      "text/plain": [
       "<Figure size 1080x216 with 1 Axes>"
      ]
     },
     "metadata": {
      "needs_background": "light"
     },
     "output_type": "display_data"
    }
   ],
   "source": [
    "plt.subplots(figsize=(15,3))\n",
    "ones = [1 for _ in p.keys()]\n",
    "p1=plt.bar(p.keys(),ones)\n",
    "p2=plt.bar(p.keys(),ones,bottom=ones)\n",
    "p3=plt.bar(p.keys(),ones,bottom=[2 for _ in p.keys()])\n",
    "for i,(k,v) in enumerate(p.items()):\n",
    "    p1[i].set_color(v[0]/255.0)\n",
    "    p2[i].set_color(v[1]/255.0)\n",
    "    p3[i].set_color(v[2]/255.0)\n",
    "plt.xticks(rotation=90)\n",
    "plt.show()\n"
   ]
  },
  {
   "cell_type": "code",
   "execution_count": null,
   "metadata": {},
   "outputs": [],
   "source": []
  }
 ],
 "metadata": {
  "interpreter": {
   "hash": "86193a1ab0ba47eac1c69c1756090baa3b420b3eea7d4aafab8b85f8b312f0c5"
  },
  "kernelspec": {
   "display_name": "Python 3.9.5 64-bit ('base': conda)",
   "language": "python",
   "name": "python3"
  },
  "language_info": {
   "codemirror_mode": {
    "name": "ipython",
    "version": 3
   },
   "file_extension": ".py",
   "mimetype": "text/x-python",
   "name": "python",
   "nbconvert_exporter": "python",
   "pygments_lexer": "ipython3",
   "version": "3.9.5"
  },
  "orig_nbformat": 4
 },
 "nbformat": 4,
 "nbformat_minor": 2
}
